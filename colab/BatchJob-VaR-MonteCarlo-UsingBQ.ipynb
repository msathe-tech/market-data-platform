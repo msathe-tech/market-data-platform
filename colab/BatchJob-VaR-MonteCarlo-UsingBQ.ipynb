{
 "cells": [
  {
   "cell_type": "code",
   "execution_count": null,
   "metadata": {},
   "outputs": [],
   "source": [
    "# Welcome to Colab Enterprise <img src=\"https://lh3.googleusercontent.com/UiNooY4LUgW_oTvpsNhPpQzsstV5W8F7rYgxgGBD85cWJoLmrOzhVs_ksK_vgx40SHs7jCqkTkCk=e14-rj-sc0xffffff-h130-w32\" alt=\"Vertex AI logo\">\n",
    "\n",
    "# Connect to a Runtime and begin!\n",
    "\n",
    "'''\n",
    "! pip list | grep google-cloud-batch\n",
    "'''\n",
    "\n",
    "'''\n",
    "! pip install google-cloud-batch\n",
    "'''\n",
    "\n",
    "! curl https://raw.githubusercontent.com/msathe-tech/market-data-platform/main/python/value-at-risk-monte-carlo-using-bq-batch-job.json --output config_file.jso\n",
    "\n",
    "! gcloud batch jobs submit mc-bq-container1-job \\\n",
    "  --location us-central1 \\\n",
    "  --config config_file.json"
   ]
  }
 ],
 "metadata": {
  "language_info": {
   "name": "python"
  }
 },
 "nbformat": 4,
 "nbformat_minor": 2
}
