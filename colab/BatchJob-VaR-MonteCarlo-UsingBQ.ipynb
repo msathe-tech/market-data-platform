{
 "cells": [
  {
   "cell_type": "code",
   "execution_count": null,
   "metadata": {},
   "outputs": [],
   "source": [
    "import requests\n",
    "from googleapiclient import discovery\n",
    "from google.auth import default  \n",
    "from google.colab import auth\n",
    "auth.authenticate_user()\n",
    "\n",
    "credentials, _ = default()  \n",
    "\n",
    "batch_api = discovery.build('batch', 'v1', credentials=credentials)\n",
    "\n",
    "# Load config JSON from GitHub\n",
    "# Replace with your GIT URL\n",
    "resp = requests.get(\"https://raw.githubusercontent.com/user/repo/main/job_config.json\") \n",
    "job_config = resp.json()\n",
    "\n",
    "request_body = {\n",
    "    \"jobId\": \"my_job\", # check if JOB ID can be optional \n",
    "    \"attemptDeadline\": \"3600s\", \n",
    "    \"jobConfiguration\": job_config\n",
    "}\n",
    "\n",
    "result = batch_api.projects().locations().jobs().create(projectId='duet-1', location='us-central1', body=request_body).execute()\n",
    "\n",
    "print(result)"
   ]
  }
 ],
 "metadata": {
  "language_info": {
   "name": "python"
  }
 },
 "nbformat": 4,
 "nbformat_minor": 2
}
