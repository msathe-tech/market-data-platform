{
  "metadata": {
    "kernelspec": {
      "name": "python3",
      "display_name": "Python 3 (ipykernel)",
      "language": "python"
    },
    "language_info": {
      "name": "python",
      "version": "3.10.4",
      "mimetype": "text/x-python",
      "codemirror_mode": {
        "name": "ipython",
        "version": 3
      },
      "pygments_lexer": "ipython3",
      "nbconvert_exporter": "python",
      "file_extension": ".py"
    },
    "colab": {
      "provenance": [],
      "toc_visible": true
    }
  },
  "nbformat_minor": 5,
  "nbformat": 4,
  "cells": [
    {
      "cell_type": "markdown",
      "source": [
        "# Import libraries"
      ],
      "metadata": {
        "id": "GKTmGuWA2j0E"
      },
      "id": "GKTmGuWA2j0E"
    },
    {
      "cell_type": "code",
      "source": [
        "import numpy as np\n",
        "import pandas as pd\n",
        "import datetime as dt\n",
        "import yfinance as yf\n",
        "import matplotlib.pyplot as plt\n",
        "import random\n",
        "import csv\n",
        "from scipy.stats import norm\n",
        "from google.cloud import storage\n",
        "from google.colab import auth\n",
        "from google.cloud import bigquery"
      ],
      "metadata": {
        "id": "nHexauZG2nRq"
      },
      "id": "nHexauZG2nRq",
      "execution_count": null,
      "outputs": []
    },
    {
      "cell_type": "markdown",
      "source": [
        "# Setup tickers array"
      ],
      "metadata": {
        "id": "BzS9lKHK4-Fz"
      },
      "id": "BzS9lKHK4-Fz"
    },
    {
      "cell_type": "code",
      "source": [
        "tickers = ['ULVR.L','VOD.L', 'STAN.L', 'HSBA.L', 'CCH.L', 'BARC.L']\n",
        "start_date = '2013-11-20 00:00:00.000000'\n",
        "end_date = '2023-11-24 23:59:59.999999'"
      ],
      "metadata": {
        "id": "nnJiMcb349C_"
      },
      "id": "nnJiMcb349C_",
      "execution_count": null,
      "outputs": []
    },
    {
      "cell_type": "markdown",
      "source": [
        "# Use BigQuery SQL to populate dataframe"
      ],
      "metadata": {
        "id": "ROZMyvOT2qOs"
      },
      "id": "ROZMyvOT2qOs"
    },
    {
      "cell_type": "code",
      "source": [
        "close_df = pd.DataFrame()\n",
        "\n",
        "for ticker in tickers:\n",
        "  sql = f'''WITH subquery AS (\n",
        "    SELECT *,\n",
        "          ROW_NUMBER() OVER (PARTITION BY RIC,  DATE(Date_Time) ORDER BY Date_Time DESC) AS row_num\n",
        "    FROM `dbd-sdlc-prod.LSE_NORMALISED.LSE_NORMALISED`\n",
        "    WHERE RIC IN ('{ticker}')\n",
        "    AND (Date_Time BETWEEN TIMESTAMP('{start_date}') AND TIMESTAMP('{end_date}'))\n",
        "    AND Type=\"Trade\"\n",
        "    AND Volume >0\n",
        "    AND Price >0\n",
        "    AND RIGHT(REGEXP_EXTRACT(Qualifiers, r\";(.*)\\[MMT_CLASS\\]\"),14) LIKE \"12%\"\n",
        "  )\n",
        "  SELECT FORMAT_DATETIME('%Y-%m-%d', Date_Time) AS Date, RIC, Price\n",
        "  FROM subquery\n",
        "  WHERE row_num = 1\n",
        "  ORDER BY Date_Time ASC;\n",
        "  '''\n",
        "  #print(sql)\n",
        "  data = pd.read_gbq(sql)\n",
        "  data.set_index('Date', inplace=True)\n",
        "  close_df[ticker] = data['Price'].astype(float)\n",
        "  print(close_df[ticker])\n",
        "\n",
        "\n",
        "print(close_df)"
      ],
      "metadata": {
        "id": "CjRJJXX8j8Oi",
        "colab": {
          "base_uri": "https://localhost:8080/"
        },
        "executionInfo": {
          "status": "ok",
          "timestamp": 1701201586280,
          "user_tz": 300,
          "elapsed": 167778,
          "user": {
            "displayName": "",
            "userId": ""
          }
        },
        "outputId": "4024b310-9ee1-4228-8112-c1c78e50479b"
      },
      "id": "CjRJJXX8j8Oi",
      "execution_count": null,
      "outputs": [
        {
          "output_type": "stream",
          "name": "stdout",
          "text": [
            "Date\n",
            "2015-11-09    2814.0\n",
            "2015-11-10    2809.0\n",
            "2015-11-11    2846.0\n",
            "2015-11-12    2803.0\n",
            "2015-11-13    2754.0\n",
            "               ...  \n",
            "2023-11-20    3777.5\n",
            "2023-11-21    3797.5\n",
            "2023-11-22    3821.5\n",
            "2023-11-23    3795.0\n",
            "2023-11-24    3800.5\n",
            "Name: ULVR.L, Length: 2033, dtype: float64\n",
            "Date\n",
            "2015-11-09    214.45\n",
            "2015-11-10    222.80\n",
            "2015-11-11    224.45\n",
            "2015-11-12    221.60\n",
            "2015-11-13    220.40\n",
            "               ...  \n",
            "2023-11-20     74.65\n",
            "2023-11-21     74.49\n",
            "2023-11-22     75.10\n",
            "2023-11-23     71.00\n",
            "2023-11-24     71.78\n",
            "Name: VOD.L, Length: 2033, dtype: float64\n",
            "Date\n",
            "2015-11-09    611.7\n",
            "2015-11-10    599.6\n",
            "2015-11-11    594.5\n",
            "2015-11-12    582.1\n",
            "2015-11-13    574.8\n",
            "              ...  \n",
            "2023-11-20    665.0\n",
            "2023-11-21    663.4\n",
            "2023-11-22    658.4\n",
            "2023-11-23    663.6\n",
            "2023-11-24    667.2\n",
            "Name: STAN.L, Length: 2033, dtype: float64\n",
            "Date\n",
            "2015-11-09    527.6\n",
            "2015-11-10    523.4\n",
            "2015-11-11    523.6\n",
            "2015-11-12    521.0\n",
            "2015-11-13    513.2\n",
            "              ...  \n",
            "2023-11-20    616.6\n",
            "2023-11-21    613.4\n",
            "2023-11-22    606.5\n",
            "2023-11-23    612.0\n",
            "2023-11-24    609.8\n",
            "Name: HSBA.L, Length: 2033, dtype: float64\n",
            "Date\n",
            "2015-11-09    1515.0\n",
            "2015-11-10    1543.0\n",
            "2015-11-11    1553.0\n",
            "2015-11-12    1540.0\n",
            "2015-11-13    1514.0\n",
            "               ...  \n",
            "2023-11-20    2093.0\n",
            "2023-11-21    2185.0\n",
            "2023-11-22    2184.0\n",
            "2023-11-23    2192.0\n",
            "2023-11-24    2184.0\n",
            "Name: CCH.L, Length: 2033, dtype: float64\n",
            "Date\n",
            "2015-11-09    234.20\n",
            "2015-11-10    230.60\n",
            "2015-11-11    232.10\n",
            "2015-11-12    226.20\n",
            "2015-11-13    225.10\n",
            "               ...  \n",
            "2023-11-20    142.52\n",
            "2023-11-21    141.70\n",
            "2023-11-22    139.94\n",
            "2023-11-23    140.40\n",
            "2023-11-24    141.86\n",
            "Name: BARC.L, Length: 2033, dtype: float64\n",
            "            ULVR.L   VOD.L  STAN.L  HSBA.L   CCH.L  BARC.L\n",
            "Date                                                      \n",
            "2015-11-09  2814.0  214.45   611.7   527.6  1515.0  234.20\n",
            "2015-11-10  2809.0  222.80   599.6   523.4  1543.0  230.60\n",
            "2015-11-11  2846.0  224.45   594.5   523.6  1553.0  232.10\n",
            "2015-11-12  2803.0  221.60   582.1   521.0  1540.0  226.20\n",
            "2015-11-13  2754.0  220.40   574.8   513.2  1514.0  225.10\n",
            "...            ...     ...     ...     ...     ...     ...\n",
            "2023-11-20  3777.5   74.65   665.0   616.6  2093.0  142.52\n",
            "2023-11-21  3797.5   74.49   663.4   613.4  2185.0  141.70\n",
            "2023-11-22  3821.5   75.10   658.4   606.5  2184.0  139.94\n",
            "2023-11-23  3795.0   71.00   663.6   612.0  2192.0  140.40\n",
            "2023-11-24  3800.5   71.78   667.2   609.8  2184.0  141.86\n",
            "\n",
            "[2033 rows x 6 columns]\n"
          ]
        }
      ]
    },
    {
      "cell_type": "markdown",
      "source": [
        "# Calculate Daily Log Returns\n",
        "Calculate the daily log returns for each stock in our portfolio and drop any missing values."
      ],
      "metadata": {
        "id": "zI8Jkhkd8Ahz"
      },
      "id": "zI8Jkhkd8Ahz"
    },
    {
      "cell_type": "code",
      "source": [
        "### Calculate the daily log returns and drop any NAs\n",
        "log_returns = np.log(close_df/close_df.shift(1))\n",
        "log_returns  = log_returns.dropna()\n",
        "\n",
        "print(log_returns)\n",
        "\n",
        "log_returns"
      ],
      "metadata": {
        "id": "qz8830e08Gyz",
        "colab": {
          "base_uri": "https://localhost:8080/",
          "height": 715
        },
        "executionInfo": {
          "status": "ok",
          "timestamp": 1701201750626,
          "user_tz": 300,
          "elapsed": 250,
          "user": {
            "displayName": "",
            "userId": ""
          }
        },
        "outputId": "4e52409a-0026-42e9-a082-d630a7012672"
      },
      "execution_count": null,
      "outputs": [
        {
          "output_type": "stream",
          "name": "stdout",
          "text": [
            "              ULVR.L     VOD.L    STAN.L    HSBA.L     CCH.L    BARC.L\n",
            "Date                                                                  \n",
            "2015-11-10 -0.001778  0.038198 -0.019979 -0.007992  0.018313 -0.015491\n",
            "2015-11-11  0.013086  0.007378 -0.008542  0.000382  0.006460  0.006484\n",
            "2015-11-12 -0.015224 -0.012779 -0.021078 -0.004978 -0.008406 -0.025749\n",
            "2015-11-13 -0.017636 -0.005430 -0.012620 -0.015084 -0.017027 -0.004875\n",
            "2015-11-16  0.000726  0.003849 -0.001393 -0.003709 -0.005962 -0.003115\n",
            "...              ...       ...       ...       ...       ...       ...\n",
            "2023-11-20 -0.009092 -0.004544  0.011494  0.001948 -0.009510 -0.002523\n",
            "2023-11-21  0.005281 -0.002146 -0.002409 -0.005203  0.043017 -0.005770\n",
            "2023-11-22  0.006300  0.008156 -0.007565 -0.011313 -0.000458 -0.012498\n",
            "2023-11-23 -0.006959 -0.056141  0.007867  0.009028  0.003656  0.003282\n",
            "2023-11-24  0.001448  0.010926  0.005410 -0.003601 -0.003656  0.010345\n",
            "\n",
            "[2032 rows x 6 columns]\n"
          ]
        },
        {
          "output_type": "execute_result",
          "data": {
            "text/plain": [
              "              ULVR.L     VOD.L    STAN.L    HSBA.L     CCH.L    BARC.L\n",
              "Date                                                                  \n",
              "2015-11-10 -0.001778  0.038198 -0.019979 -0.007992  0.018313 -0.015491\n",
              "2015-11-11  0.013086  0.007378 -0.008542  0.000382  0.006460  0.006484\n",
              "2015-11-12 -0.015224 -0.012779 -0.021078 -0.004978 -0.008406 -0.025749\n",
              "2015-11-13 -0.017636 -0.005430 -0.012620 -0.015084 -0.017027 -0.004875\n",
              "2015-11-16  0.000726  0.003849 -0.001393 -0.003709 -0.005962 -0.003115\n",
              "...              ...       ...       ...       ...       ...       ...\n",
              "2023-11-20 -0.009092 -0.004544  0.011494  0.001948 -0.009510 -0.002523\n",
              "2023-11-21  0.005281 -0.002146 -0.002409 -0.005203  0.043017 -0.005770\n",
              "2023-11-22  0.006300  0.008156 -0.007565 -0.011313 -0.000458 -0.012498\n",
              "2023-11-23 -0.006959 -0.056141  0.007867  0.009028  0.003656  0.003282\n",
              "2023-11-24  0.001448  0.010926  0.005410 -0.003601 -0.003656  0.010345\n",
              "\n",
              "[2032 rows x 6 columns]"
            ],
            "text/html": [
              "\n",
              "  <div id=\"df-534e0176-541a-4091-b44d-8a24a116a957\" class=\"colab-df-container\">\n",
              "    <div>\n",
              "<style scoped>\n",
              "    .dataframe tbody tr th:only-of-type {\n",
              "        vertical-align: middle;\n",
              "    }\n",
              "\n",
              "    .dataframe tbody tr th {\n",
              "        vertical-align: top;\n",
              "    }\n",
              "\n",
              "    .dataframe thead th {\n",
              "        text-align: right;\n",
              "    }\n",
              "</style>\n",
              "<table border=\"1\" class=\"dataframe\">\n",
              "  <thead>\n",
              "    <tr style=\"text-align: right;\">\n",
              "      <th></th>\n",
              "      <th>ULVR.L</th>\n",
              "      <th>VOD.L</th>\n",
              "      <th>STAN.L</th>\n",
              "      <th>HSBA.L</th>\n",
              "      <th>CCH.L</th>\n",
              "      <th>BARC.L</th>\n",
              "    </tr>\n",
              "    <tr>\n",
              "      <th>Date</th>\n",
              "      <th></th>\n",
              "      <th></th>\n",
              "      <th></th>\n",
              "      <th></th>\n",
              "      <th></th>\n",
              "      <th></th>\n",
              "    </tr>\n",
              "  </thead>\n",
              "  <tbody>\n",
              "    <tr>\n",
              "      <th>2015-11-10</th>\n",
              "      <td>-0.001778</td>\n",
              "      <td>0.038198</td>\n",
              "      <td>-0.019979</td>\n",
              "      <td>-0.007992</td>\n",
              "      <td>0.018313</td>\n",
              "      <td>-0.015491</td>\n",
              "    </tr>\n",
              "    <tr>\n",
              "      <th>2015-11-11</th>\n",
              "      <td>0.013086</td>\n",
              "      <td>0.007378</td>\n",
              "      <td>-0.008542</td>\n",
              "      <td>0.000382</td>\n",
              "      <td>0.006460</td>\n",
              "      <td>0.006484</td>\n",
              "    </tr>\n",
              "    <tr>\n",
              "      <th>2015-11-12</th>\n",
              "      <td>-0.015224</td>\n",
              "      <td>-0.012779</td>\n",
              "      <td>-0.021078</td>\n",
              "      <td>-0.004978</td>\n",
              "      <td>-0.008406</td>\n",
              "      <td>-0.025749</td>\n",
              "    </tr>\n",
              "    <tr>\n",
              "      <th>2015-11-13</th>\n",
              "      <td>-0.017636</td>\n",
              "      <td>-0.005430</td>\n",
              "      <td>-0.012620</td>\n",
              "      <td>-0.015084</td>\n",
              "      <td>-0.017027</td>\n",
              "      <td>-0.004875</td>\n",
              "    </tr>\n",
              "    <tr>\n",
              "      <th>2015-11-16</th>\n",
              "      <td>0.000726</td>\n",
              "      <td>0.003849</td>\n",
              "      <td>-0.001393</td>\n",
              "      <td>-0.003709</td>\n",
              "      <td>-0.005962</td>\n",
              "      <td>-0.003115</td>\n",
              "    </tr>\n",
              "    <tr>\n",
              "      <th>...</th>\n",
              "      <td>...</td>\n",
              "      <td>...</td>\n",
              "      <td>...</td>\n",
              "      <td>...</td>\n",
              "      <td>...</td>\n",
              "      <td>...</td>\n",
              "    </tr>\n",
              "    <tr>\n",
              "      <th>2023-11-20</th>\n",
              "      <td>-0.009092</td>\n",
              "      <td>-0.004544</td>\n",
              "      <td>0.011494</td>\n",
              "      <td>0.001948</td>\n",
              "      <td>-0.009510</td>\n",
              "      <td>-0.002523</td>\n",
              "    </tr>\n",
              "    <tr>\n",
              "      <th>2023-11-21</th>\n",
              "      <td>0.005281</td>\n",
              "      <td>-0.002146</td>\n",
              "      <td>-0.002409</td>\n",
              "      <td>-0.005203</td>\n",
              "      <td>0.043017</td>\n",
              "      <td>-0.005770</td>\n",
              "    </tr>\n",
              "    <tr>\n",
              "      <th>2023-11-22</th>\n",
              "      <td>0.006300</td>\n",
              "      <td>0.008156</td>\n",
              "      <td>-0.007565</td>\n",
              "      <td>-0.011313</td>\n",
              "      <td>-0.000458</td>\n",
              "      <td>-0.012498</td>\n",
              "    </tr>\n",
              "    <tr>\n",
              "      <th>2023-11-23</th>\n",
              "      <td>-0.006959</td>\n",
              "      <td>-0.056141</td>\n",
              "      <td>0.007867</td>\n",
              "      <td>0.009028</td>\n",
              "      <td>0.003656</td>\n",
              "      <td>0.003282</td>\n",
              "    </tr>\n",
              "    <tr>\n",
              "      <th>2023-11-24</th>\n",
              "      <td>0.001448</td>\n",
              "      <td>0.010926</td>\n",
              "      <td>0.005410</td>\n",
              "      <td>-0.003601</td>\n",
              "      <td>-0.003656</td>\n",
              "      <td>0.010345</td>\n",
              "    </tr>\n",
              "  </tbody>\n",
              "</table>\n",
              "<p>2032 rows × 6 columns</p>\n",
              "</div>\n",
              "    <div class=\"colab-df-buttons\">\n",
              "\n",
              "  <div class=\"colab-df-container\">\n",
              "    <button class=\"colab-df-convert\" onclick=\"convertToInteractive('df-534e0176-541a-4091-b44d-8a24a116a957')\"\n",
              "            title=\"Convert this dataframe to an interactive table.\"\n",
              "            style=\"display:none;\">\n",
              "\n",
              "  <svg xmlns=\"http://www.w3.org/2000/svg\" height=\"24px\" viewBox=\"0 -960 960 960\">\n",
              "    <path d=\"M120-120v-720h720v720H120Zm60-500h600v-160H180v160Zm220 220h160v-160H400v160Zm0 220h160v-160H400v160ZM180-400h160v-160H180v160Zm440 0h160v-160H620v160ZM180-180h160v-160H180v160Zm440 0h160v-160H620v160Z\"/>\n",
              "  </svg>\n",
              "    </button>\n",
              "\n",
              "  <style>\n",
              "    .colab-df-container {\n",
              "      display:flex;\n",
              "      gap: 12px;\n",
              "    }\n",
              "\n",
              "    .colab-df-convert {\n",
              "      background-color: #E8F0FE;\n",
              "      border: none;\n",
              "      border-radius: 50%;\n",
              "      cursor: pointer;\n",
              "      display: none;\n",
              "      fill: #1967D2;\n",
              "      height: 32px;\n",
              "      padding: 0 0 0 0;\n",
              "      width: 32px;\n",
              "    }\n",
              "\n",
              "    .colab-df-convert:hover {\n",
              "      background-color: #E2EBFA;\n",
              "      box-shadow: 0px 1px 2px rgba(60, 64, 67, 0.3), 0px 1px 3px 1px rgba(60, 64, 67, 0.15);\n",
              "      fill: #174EA6;\n",
              "    }\n",
              "\n",
              "    .colab-df-buttons div {\n",
              "      margin-bottom: 4px;\n",
              "    }\n",
              "\n",
              "    [theme=dark] .colab-df-convert {\n",
              "      background-color: #3B4455;\n",
              "      fill: #D2E3FC;\n",
              "    }\n",
              "\n",
              "    [theme=dark] .colab-df-convert:hover {\n",
              "      background-color: #434B5C;\n",
              "      box-shadow: 0px 1px 3px 1px rgba(0, 0, 0, 0.15);\n",
              "      filter: drop-shadow(0px 1px 2px rgba(0, 0, 0, 0.3));\n",
              "      fill: #FFFFFF;\n",
              "    }\n",
              "  </style>\n",
              "\n",
              "    <script>\n",
              "      const buttonEl =\n",
              "        document.querySelector('#df-534e0176-541a-4091-b44d-8a24a116a957 button.colab-df-convert');\n",
              "      buttonEl.style.display =\n",
              "        google.colab.kernel.accessAllowed ? 'block' : 'none';\n",
              "\n",
              "      async function convertToInteractive(key) {\n",
              "        const element = document.querySelector('#df-534e0176-541a-4091-b44d-8a24a116a957');\n",
              "        const dataTable =\n",
              "          await google.colab.kernel.invokeFunction('convertToInteractive',\n",
              "                                                    [key], {});\n",
              "        if (!dataTable) return;\n",
              "\n",
              "        const docLinkHtml = 'Like what you see? Visit the ' +\n",
              "          '<a target=\"_blank\" href=https://colab.research.google.com/notebooks/data_table.ipynb>data table notebook</a>'\n",
              "          + ' to learn more about interactive tables.';\n",
              "        element.innerHTML = '';\n",
              "        dataTable['output_type'] = 'display_data';\n",
              "        await google.colab.output.renderOutput(dataTable, element);\n",
              "        const docLink = document.createElement('div');\n",
              "        docLink.innerHTML = docLinkHtml;\n",
              "        element.appendChild(docLink);\n",
              "      }\n",
              "    </script>\n",
              "  </div>\n",
              "\n",
              "\n",
              "<div id=\"df-7ab1052f-8164-418b-98c4-1e29f459263d\">\n",
              "  <button class=\"colab-df-quickchart\" onclick=\"quickchart('df-7ab1052f-8164-418b-98c4-1e29f459263d')\"\n",
              "            title=\"Suggest charts\"\n",
              "            style=\"display:none;\">\n",
              "\n",
              "<svg xmlns=\"http://www.w3.org/2000/svg\" height=\"24px\"viewBox=\"0 0 24 24\"\n",
              "     width=\"24px\">\n",
              "    <g>\n",
              "        <path d=\"M19 3H5c-1.1 0-2 .9-2 2v14c0 1.1.9 2 2 2h14c1.1 0 2-.9 2-2V5c0-1.1-.9-2-2-2zM9 17H7v-7h2v7zm4 0h-2V7h2v10zm4 0h-2v-4h2v4z\"/>\n",
              "    </g>\n",
              "</svg>\n",
              "  </button>\n",
              "\n",
              "<style>\n",
              "  .colab-df-quickchart {\n",
              "      --bg-color: #E8F0FE;\n",
              "      --fill-color: #1967D2;\n",
              "      --hover-bg-color: #E2EBFA;\n",
              "      --hover-fill-color: #174EA6;\n",
              "      --disabled-fill-color: #AAA;\n",
              "      --disabled-bg-color: #DDD;\n",
              "  }\n",
              "\n",
              "  [theme=dark] .colab-df-quickchart {\n",
              "      --bg-color: #3B4455;\n",
              "      --fill-color: #D2E3FC;\n",
              "      --hover-bg-color: #434B5C;\n",
              "      --hover-fill-color: #FFFFFF;\n",
              "      --disabled-bg-color: #3B4455;\n",
              "      --disabled-fill-color: #666;\n",
              "  }\n",
              "\n",
              "  .colab-df-quickchart {\n",
              "    background-color: var(--bg-color);\n",
              "    border: none;\n",
              "    border-radius: 50%;\n",
              "    cursor: pointer;\n",
              "    display: none;\n",
              "    fill: var(--fill-color);\n",
              "    height: 32px;\n",
              "    padding: 0;\n",
              "    width: 32px;\n",
              "  }\n",
              "\n",
              "  .colab-df-quickchart:hover {\n",
              "    background-color: var(--hover-bg-color);\n",
              "    box-shadow: 0 1px 2px rgba(60, 64, 67, 0.3), 0 1px 3px 1px rgba(60, 64, 67, 0.15);\n",
              "    fill: var(--button-hover-fill-color);\n",
              "  }\n",
              "\n",
              "  .colab-df-quickchart-complete:disabled,\n",
              "  .colab-df-quickchart-complete:disabled:hover {\n",
              "    background-color: var(--disabled-bg-color);\n",
              "    fill: var(--disabled-fill-color);\n",
              "    box-shadow: none;\n",
              "  }\n",
              "\n",
              "  .colab-df-spinner {\n",
              "    border: 2px solid var(--fill-color);\n",
              "    border-color: transparent;\n",
              "    border-bottom-color: var(--fill-color);\n",
              "    animation:\n",
              "      spin 1s steps(1) infinite;\n",
              "  }\n",
              "\n",
              "  @keyframes spin {\n",
              "    0% {\n",
              "      border-color: transparent;\n",
              "      border-bottom-color: var(--fill-color);\n",
              "      border-left-color: var(--fill-color);\n",
              "    }\n",
              "    20% {\n",
              "      border-color: transparent;\n",
              "      border-left-color: var(--fill-color);\n",
              "      border-top-color: var(--fill-color);\n",
              "    }\n",
              "    30% {\n",
              "      border-color: transparent;\n",
              "      border-left-color: var(--fill-color);\n",
              "      border-top-color: var(--fill-color);\n",
              "      border-right-color: var(--fill-color);\n",
              "    }\n",
              "    40% {\n",
              "      border-color: transparent;\n",
              "      border-right-color: var(--fill-color);\n",
              "      border-top-color: var(--fill-color);\n",
              "    }\n",
              "    60% {\n",
              "      border-color: transparent;\n",
              "      border-right-color: var(--fill-color);\n",
              "    }\n",
              "    80% {\n",
              "      border-color: transparent;\n",
              "      border-right-color: var(--fill-color);\n",
              "      border-bottom-color: var(--fill-color);\n",
              "    }\n",
              "    90% {\n",
              "      border-color: transparent;\n",
              "      border-bottom-color: var(--fill-color);\n",
              "    }\n",
              "  }\n",
              "</style>\n",
              "\n",
              "  <script>\n",
              "    async function quickchart(key) {\n",
              "      const quickchartButtonEl =\n",
              "        document.querySelector('#' + key + ' button');\n",
              "      quickchartButtonEl.disabled = true;  // To prevent multiple clicks.\n",
              "      quickchartButtonEl.classList.add('colab-df-spinner');\n",
              "      try {\n",
              "        const charts = await google.colab.kernel.invokeFunction(\n",
              "            'suggestCharts', [key], {});\n",
              "      } catch (error) {\n",
              "        console.error('Error during call to suggestCharts:', error);\n",
              "      }\n",
              "      quickchartButtonEl.classList.remove('colab-df-spinner');\n",
              "      quickchartButtonEl.classList.add('colab-df-quickchart-complete');\n",
              "    }\n",
              "    (() => {\n",
              "      let quickchartButtonEl =\n",
              "        document.querySelector('#df-7ab1052f-8164-418b-98c4-1e29f459263d button');\n",
              "      quickchartButtonEl.style.display =\n",
              "        google.colab.kernel.accessAllowed ? 'block' : 'none';\n",
              "    })();\n",
              "  </script>\n",
              "</div>\n",
              "    </div>\n",
              "  </div>\n"
            ]
          },
          "metadata": {},
          "execution_count": 4
        }
      ],
      "id": "qz8830e08Gyz"
    },
    {
      "cell_type": "markdown",
      "source": [
        "# Define Functions to Calculate Portfolio Expected Return and Standard Deviation\n",
        "Define two functions, expected_return() and standard_deviation(), which will be used to calculate the expected return and standard deviation of our portfolio, respectively."
      ],
      "metadata": {
        "id": "bWpscWKr8JfF"
      },
      "id": "bWpscWKr8JfF"
    },
    {
      "cell_type": "code",
      "source": [
        "### Create a function that will be used to calculate portfolio expected return\n",
        "### We are assuming that future returns are based on past returns, which is not a reliable assumption.\n",
        "def expected_return(weights, log_returns):\n",
        "    return np.sum(log_returns.mean()*weights)\n",
        "\n",
        "### Create a function that will be used to calculate portfolio standard deviation\n",
        "def standard_deviation (weights, cov_matrix):\n",
        "    variance = weights.T @ cov_matrix @ weights\n",
        "    return np.sqrt(variance)"
      ],
      "metadata": {
        "id": "Z4UsZLkt8epA"
      },
      "execution_count": null,
      "outputs": [],
      "id": "Z4UsZLkt8epA"
    },
    {
      "cell_type": "markdown",
      "source": [
        "# Create a Covariance Matrix\n",
        "Create a covariance matrix for all the securities in our portfolio using the daily log returns."
      ],
      "metadata": {
        "id": "bEKEGAGn8nPj"
      },
      "id": "bEKEGAGn8nPj"
    },
    {
      "cell_type": "code",
      "source": [
        "### Create a covariance matrix for all the securities\n",
        "cov_matrix = log_returns.cov()\n",
        "print(cov_matrix)"
      ],
      "metadata": {
        "id": "006D_dZ08sks",
        "colab": {
          "base_uri": "https://localhost:8080/"
        },
        "executionInfo": {
          "status": "ok",
          "timestamp": 1701201789245,
          "user_tz": 300,
          "elapsed": 152,
          "user": {
            "displayName": "",
            "userId": ""
          }
        },
        "outputId": "8b98d2b5-0d1f-4beb-9502-e2aa8189e5ce"
      },
      "execution_count": null,
      "outputs": [
        {
          "output_type": "stream",
          "name": "stdout",
          "text": [
            "          ULVR.L     VOD.L    STAN.L    HSBA.L     CCH.L    BARC.L\n",
            "ULVR.L  0.000171  0.000072  0.000054  0.000055  0.000081  0.000033\n",
            "VOD.L   0.000072  0.000269  0.000134  0.000107  0.000103  0.000150\n",
            "STAN.L  0.000054  0.000134  0.000495  0.000252  0.000128  0.000319\n",
            "HSBA.L  0.000055  0.000107  0.000252  0.000262  0.000092  0.000221\n",
            "CCH.L   0.000081  0.000103  0.000128  0.000092  0.000316  0.000154\n",
            "BARC.L  0.000033  0.000150  0.000319  0.000221  0.000154  0.000508\n"
          ]
        }
      ],
      "id": "006D_dZ08sks"
    },
    {
      "cell_type": "markdown",
      "source": [
        "# Calculate Portfolio Expected Return and Standard Deviation\n",
        "Create an equally weighted portfolio and calculate the portfolio’s expected return and standard deviation using the functions we defined earlier."
      ],
      "metadata": {
        "id": "FUmXmirJ8ulO"
      },
      "id": "FUmXmirJ8ulO"
    },
    {
      "cell_type": "code",
      "source": [
        "### Create an equally weighted portfolio and find total portfolio expected return and standard deviation\n",
        "portfolio_value = 1000000\n",
        "weights = np.array([1/len(tickers)]*len(tickers))\n",
        "portfolio_expected_return = expected_return(weights, log_returns)\n",
        "portfolio_std_dev = standard_deviation (weights, cov_matrix)"
      ],
      "metadata": {
        "id": "ueXjbA5v8yoV"
      },
      "execution_count": null,
      "outputs": [],
      "id": "ueXjbA5v8yoV"
    },
    {
      "cell_type": "markdown",
      "source": [
        "# Define Functions for Monte Carlo Simulation\n",
        "Define two functions: random_z_score() and scenario_gain_loss(). The first function generates a random Z-score based on a normal distribution, and the second function calculates the gain or loss for a given scenario.\n"
      ],
      "metadata": {
        "id": "MG_yHArN8-0U"
      },
      "id": "MG_yHArN8-0U"
    },
    {
      "cell_type": "code",
      "source": [
        "def random_z_score():\n",
        "    return np.random.normal(0, 1)\n",
        "\n",
        "### Create a function to calculate scenarioGainLoss\n",
        "days = 20\n",
        "\n",
        "def scenario_gain_loss(portfolio_value, portfolio_std_dev, z_score, days):\n",
        "    return portfolio_value * portfolio_expected_return * days + portfolio_value * portfolio_std_dev * z_score * np.sqrt(days)"
      ],
      "metadata": {
        "id": "Jp8aaa4F9CFj"
      },
      "execution_count": null,
      "outputs": [],
      "id": "Jp8aaa4F9CFj"
    },
    {
      "cell_type": "markdown",
      "source": [
        "# Run Monte Carlo Simulation\n",
        "Run 10,000 Monte Carlo simulations, calculating the scenario gain/loss for each simulation and storing the results in a list."
      ],
      "metadata": {
        "id": "gqzqeAlE9hvE"
      },
      "id": "gqzqeAlE9hvE"
    },
    {
      "cell_type": "code",
      "source": [
        "### Run 10000 simulations\n",
        "simulations = 10000\n",
        "scenarioReturn = []\n",
        "\n",
        "for i in range(simulations):\n",
        "    z_score = random_z_score()\n",
        "    scenarioReturn.append(scenario_gain_loss(portfolio_value, portfolio_std_dev, z_score, days))"
      ],
      "metadata": {
        "id": "zuuZLeFf9nwR"
      },
      "execution_count": null,
      "outputs": [],
      "id": "zuuZLeFf9nwR"
    },
    {
      "cell_type": "markdown",
      "source": [
        "# Populate the simulation output to GCS\n",
        "The HPC can run millions of simulations simultaenously, each worker pumping output of\n",
        "\n",
        "```\n",
        "scenarioReturn\n",
        "```\n",
        "to the GCS bucket.\n",
        "\n",
        "You need a job that will ingest the GCS bucket data to BQ.\n",
        "The VaR app can use the cumulative BQ table published by the HPC cluster and computes VaR on top of it.\n",
        "You can use any visualization tool to plot the histogram.\n"
      ],
      "metadata": {
        "id": "9LFpi0JsUeal"
      },
      "id": "9LFpi0JsUeal"
    },
    {
      "cell_type": "code",
      "source": [
        "# This batch ID will be replaced by HPC batch job ID\n",
        "batch = random.randint(0, 10000)\n",
        "venue = 'LSE'\n",
        "\n",
        "auth.authenticate_user()\n",
        "\n",
        "# Create a GCS storage client\n",
        "storage_client = storage.Client()\n",
        "\n",
        "# Specify the project ID and bucket name\n",
        "project_id = 'duet-1'\n",
        "bucket_name = 'duet-1-refinitiv-var-mc--simulations'\n",
        "\n",
        "# Create a directory named 'my-directory' in the bucket\n",
        "directory_name = \"batch-\" + str(batch) + \"/\"\n",
        "\n",
        "# Create a new folder\n",
        "bucket = storage_client.bucket(bucket_name)\n",
        "blob = bucket.blob(directory_name)\n",
        "blob.upload_from_string(' ')\n",
        "\n",
        "# Create a file\n",
        "csv_file_name = str(batch) + '-1.csv'\n",
        "with open(csv_file_name, 'w') as csvfile:\n",
        "    csv_writer = csv.writer(csvfile)\n",
        "    csv_writer.writerow(['BATCH', 'VENUE', 'PORTFOLIO', 'PORTFOLIO_VALUE', 'START_DATE', 'END_DATE', 'DAYS', 'RETURN'])\n",
        "    portfolio = ','.join(tickers)\n",
        "    for returnValue in scenarioReturn:\n",
        "        row = [batch, venue, portfolio, portfolio_value, start_date, end_date, days, returnValue]\n",
        "        csv_writer.writerow(row)\n",
        "    csvfile.close()\n",
        "\n",
        "# Upload the file to the bucket\n",
        "gcs_csv_path = directory_name + csv_file_name\n",
        "blob = bucket.blob(gcs_csv_path)\n",
        "blob.upload_from_filename(csv_file_name)\n",
        "\n",
        "# Verify the directory creation\n",
        "print(bucket.list_blobs())\n",
        "\n"
      ],
      "metadata": {
        "id": "-Oipsg4kjfYS",
        "colab": {
          "base_uri": "https://localhost:8080/"
        },
        "executionInfo": {
          "status": "ok",
          "timestamp": 1701204488871,
          "user_tz": 300,
          "elapsed": 505,
          "user": {
            "displayName": "",
            "userId": ""
          }
        },
        "outputId": "6eea4a02-167c-42bd-f36d-7e65fa32661a"
      },
      "id": "-Oipsg4kjfYS",
      "execution_count": 11,
      "outputs": [
        {
          "output_type": "stream",
          "name": "stdout",
          "text": [
            "<google.api_core.page_iterator.HTTPIterator object at 0x7e45d8a869e0>\n"
          ]
        }
      ]
    },
    {
      "cell_type": "markdown",
      "source": [
        "# Copy data from GCS to BQ"
      ],
      "metadata": {
        "id": "XwOOfWZeF7Og"
      },
      "id": "XwOOfWZeF7Og"
    },
    {
      "cell_type": "code",
      "source": [
        "client = bigquery.Client()\n",
        "table_name = 'duet-1.VaR.VaR-RETURNS'\n",
        "\n",
        "# Construct the URI for the CSV file in the GCS bucket\n",
        "gcs_uri = f'gs://{bucket_name}/{directory_name}{csv_file_name}'\n",
        "\n",
        "\n",
        "#BATCH, VENUE,\n",
        "  # PORTFOLIO,\n",
        "  # PORTFOLIO_VALUE,\n",
        "  # START_DATE,\n",
        "  # END_DATE,\n",
        "  # DAYS,\n",
        "  # RETURN\n",
        "\n",
        "job_config = bigquery.LoadJobConfig(\n",
        "    schema=[\n",
        "        bigquery.SchemaField(\"BATCH\", \"STRING\"),\n",
        "        bigquery.SchemaField(\"VENUE\", \"STRING\"),\n",
        "        bigquery.SchemaField(\"PORTFOLIO\", \"STRING\"),\n",
        "        bigquery.SchemaField(\"PORTFOLIO_VALUE\", \"FLOAT64\"),\n",
        "        bigquery.SchemaField(\"START_DATE\", \"TIMESTAMP\"),\n",
        "        bigquery.SchemaField(\"END_DATE\", \"TIMESTAMP\"),\n",
        "        bigquery.SchemaField(\"DAYS\", \"INT64\"),\n",
        "        bigquery.SchemaField(\"RETURN\", \"FLOAT64\")\n",
        "    ],\n",
        "    skip_leading_rows=1,\n",
        "    # The source format defaults to CSV, so the line below is optional.\n",
        "    source_format=bigquery.SourceFormat.CSV,\n",
        "    # write_disposition = bigquery.WriteDisposition().WRITE_TRUNCATE\n",
        ")\n",
        "\n",
        "\n",
        "# Load the CSV file into the BigQuery table\n",
        "load_job = client.load_table_from_uri(gcs_uri, table_name, job_config=job_config)\n",
        "\n",
        "# Wait for the load job to complete\n",
        "load_job.result()  # Returns `None` when the load completes\n",
        "\n",
        "# Check if the load job had errors\n",
        "if load_job.errors:\n",
        "    print(load_job.errors)\n",
        "else:\n",
        "    print('Data loaded successfully')\n"
      ],
      "metadata": {
        "id": "JwNOuqBEF-4g",
        "colab": {
          "base_uri": "https://localhost:8080/"
        },
        "executionInfo": {
          "status": "ok",
          "timestamp": 1701204514331,
          "user_tz": 300,
          "elapsed": 3866,
          "user": {
            "displayName": "",
            "userId": ""
          }
        },
        "outputId": "75a70613-69ac-4ceb-9f68-3b93d38bc6b2"
      },
      "id": "JwNOuqBEF-4g",
      "execution_count": 12,
      "outputs": [
        {
          "output_type": "stream",
          "name": "stdout",
          "text": [
            "Data loaded successfully\n"
          ]
        }
      ]
    },
    {
      "cell_type": "markdown",
      "source": [
        "# Calculate Value at Risk (VaR)\n",
        "Specify a confidence interval of 99% and calculate Value at Risk (VaR) using the results of our simulations."
      ],
      "metadata": {
        "id": "jmnToGLt9uem"
      },
      "id": "jmnToGLt9uem"
    },
    {
      "cell_type": "code",
      "source": [
        "### Specify a confidence interval and calculate the Value at Risk (VaR)\n",
        "confidence_interval = 0.99\n",
        "VaR = -np.percentile(scenarioReturn, 100 * (1 - confidence_interval))\n",
        "print(VaR)"
      ],
      "metadata": {
        "id": "YH_atN1k-BLC",
        "colab": {
          "base_uri": "https://localhost:8080/"
        },
        "executionInfo": {
          "status": "ok",
          "timestamp": 1701204524028,
          "user_tz": 300,
          "elapsed": 138,
          "user": {
            "displayName": "",
            "userId": ""
          }
        },
        "outputId": "ea57c718-9726-45a8-b10b-4b6aae2f7ea4"
      },
      "execution_count": 13,
      "outputs": [
        {
          "output_type": "stream",
          "name": "stdout",
          "text": [
            "134892.60758569313\n"
          ]
        }
      ],
      "id": "YH_atN1k-BLC"
    },
    {
      "cell_type": "markdown",
      "source": [
        "# Plot the Results\n",
        "Create a histogram to visualize the distribution of portfolio gain/loss over the specified number of days. We also add a vertical dashed line to indicate the VaR at our chosen confidence level."
      ],
      "metadata": {
        "id": "ykIVuCaE-GQr"
      },
      "id": "ykIVuCaE-GQr"
    },
    {
      "cell_type": "code",
      "source": [
        "### Plot the results of all 10000 scenarios\n",
        "plt.hist(scenarioReturn, bins=80, density=True)\n",
        "plt.xlabel('Scenario Gain/Loss ($)')\n",
        "plt.ylabel('Frequency')\n",
        "plt.title(f'Distribution of Portfolio Gain/Loss Over {days} Days')\n",
        "plt.axvline(-VaR, color='r', linestyle='dashed', linewidth=2, label=f'VaR at {confidence_interval:.0%} confidence level')\n",
        "plt.legend()\n",
        "plt.show()"
      ],
      "metadata": {
        "id": "3DFIzD1X-JXb",
        "colab": {
          "base_uri": "https://localhost:8080/",
          "height": 472
        },
        "executionInfo": {
          "status": "ok",
          "timestamp": 1701204526523,
          "user_tz": 300,
          "elapsed": 1248,
          "user": {
            "displayName": "",
            "userId": ""
          }
        },
        "outputId": "e9b7365c-85d7-4d6c-f796-9bd3ef7a865b"
      },
      "execution_count": 14,
      "outputs": [
        {
          "output_type": "display_data",
          "data": {
            "text/plain": [
              "<Figure size 640x480 with 1 Axes>"
            ],
            "image/png": "[encoded data removed]"
          },
          "metadata": {}
        }
      ],
      "id": "3DFIzD1X-JXb"
    }
  ]
}