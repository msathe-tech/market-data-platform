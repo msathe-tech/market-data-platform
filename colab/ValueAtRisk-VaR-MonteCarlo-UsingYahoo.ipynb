{
  "metadata": {
    "kernelspec": {
      "name": "python3",
      "display_name": "Python 3 (ipykernel)",
      "language": "python"
    },
    "language_info": {
      "name": "python",
      "version": "3.10.4",
      "mimetype": "text/x-python",
      "codemirror_mode": {
        "name": "ipython",
        "version": 3
      },
      "pygments_lexer": "ipython3",
      "nbconvert_exporter": "python",
      "file_extension": ".py"
    },
    "colab": {
      "provenance": []
    }
  },
  "nbformat_minor": 5,
  "nbformat": 4,
  "cells": [
    {
      "cell_type": "markdown",
      "source": [
        "## Value at Risk (VaR) Using the Monte Carlo\n",
        "We will perform a **Value at Risk (VaR)** simulation for a portfolio of stocks using Python and the yfinance library. We will use historical stock prices to calculate the expected return and standard deviation of the portfolio, and then run a Monte Carlo simulation to estimate the VaR.\n",
        "\n",
        "# Import Libraries"
      ],
      "metadata": {
        "id": "u32QfxZu6dfu"
      },
      "id": "u32QfxZu6dfu"
    },
    {
      "cell_type": "code",
      "source": [
        "import numpy as np\n",
        "import pandas as pd\n",
        "import datetime as dt\n",
        "import yfinance as yf\n",
        "import matplotlib.pyplot as plt\n",
        "from scipy.stats import norm"
      ],
      "metadata": {
        "id": "j47LnRfC7DCV",
        "executionInfo": {
          "status": "ok",
          "timestamp": 1701109084574,
          "user_tz": 300,
          "elapsed": 5888,
          "user": {
            "displayName": "",
            "userId": ""
          }
        }
      },
      "id": "j47LnRfC7DCV",
      "execution_count": 1,
      "outputs": []
    },
    {
      "cell_type": "markdown",
      "source": [
        "# Set Time Range and Ticker List\n",
        "We will set the time range for our historical data to 15 years and create a list of stock tickers for our portfolio."
      ],
      "metadata": {
        "id": "XhGzXXPt7FW0"
      },
      "id": "XhGzXXPt7FW0"
    },
    {
      "cell_type": "code",
      "source": [
        "### Set time from to a certain number of years\n",
        "years = 15\n",
        "\n",
        "endDate = dt.datetime.now()\n",
        "startDate = endDate - dt.timedelta(days = 365*years)\n",
        "\n",
        "### Create a list of tickers\n",
        "tickers = ['SPY','BND','GLD','QQQ','VTI']"
      ],
      "metadata": {
        "id": "IOpJF4d77dXU"
      },
      "id": "IOpJF4d77dXU",
      "execution_count": null,
      "outputs": []
    },
    {
      "cell_type": "markdown",
      "source": [
        "# Download Adjusted Close Prices\n",
        "Download the daily adjusted close prices for each stock ticker using the yfinance library and store the data in a DataFrame."
      ],
      "metadata": {
        "id": "rXjHHmxM7kba"
      },
      "id": "rXjHHmxM7kba"
    },
    {
      "cell_type": "code",
      "source": [
        "### Download the daily adjusted close prices for the tickers\n",
        "adj_close_df = pd.DataFrame()\n",
        "\n",
        "for ticker in tickers:\n",
        "    data = yf.download(ticker, start = startDate, end = endDate)\n",
        "    print(data.dtypes)\n",
        "    print(data['Adj Close'])\n",
        "    #data\n",
        "    adj_close_df[ticker] = data['Adj Close']\n",
        "\n",
        "print(adj_close_df.dtypes)\n",
        "print(adj_close_df)"
      ],
      "metadata": {
        "colab": {
          "base_uri": "https://localhost:8080/"
        },
        "id": "wzc2gywE7tp0",
        "executionInfo": {
          "status": "ok",
          "timestamp": 1700895691959,
          "user_tz": 300,
          "elapsed": 2217,
          "user": {
            "displayName": "",
            "userId": ""
          }
        },
        "outputId": "6d1b3653-f025-4308-93be-3e5be02aa775"
      },
      "id": "wzc2gywE7tp0",
      "execution_count": null,
      "outputs": [
        {
          "output_type": "stream",
          "name": "stdout",
          "text": [
            "\r[*********************100%%**********************]  1 of 1 completed\n",
            "Open         float64\n",
            "High         float64\n",
            "Low          float64\n",
            "Close        float64\n",
            "Adj Close    float64\n",
            "Volume         int64\n",
            "dtype: object\n",
            "Date\n",
            "2008-11-28     67.422653\n",
            "2008-12-01     61.450474\n",
            "2008-12-02     63.815407\n",
            "2008-12-03     65.349609\n",
            "2008-12-04     63.837852\n",
            "                 ...    \n",
            "2023-11-17    450.790009\n",
            "2023-11-20    454.260010\n",
            "2023-11-21    453.269989\n",
            "2023-11-22    455.019989\n",
            "2023-11-24    455.299988\n",
            "Name: Adj Close, Length: 3773, dtype: float64\n",
            "[*********************100%%**********************]  1 of 1 completed\n",
            "Open         float64\n",
            "High         float64\n",
            "Low          float64\n",
            "Close        float64\n",
            "Adj Close    float64\n",
            "Volume         int64\n",
            "dtype: object\n",
            "Date\n",
            "2008-11-28    48.992622\n",
            "2008-12-01    49.282425\n",
            "2008-12-02    49.581314\n",
            "2008-12-03    49.347416\n",
            "2008-12-04    49.561848\n",
            "                ...    \n",
            "2023-11-17    70.639999\n",
            "2023-11-20    70.739998\n",
            "2023-11-21    70.839996\n",
            "2023-11-22    70.900002\n",
            "2023-11-24    70.559998\n",
            "Name: Adj Close, Length: 3773, dtype: float64\n",
            "[*********************100%%**********************]  1 of 1 completed\n",
            "Open         float64\n",
            "High         float64\n",
            "Low          float64\n",
            "Close        float64\n",
            "Adj Close    float64\n",
            "Volume         int64\n",
            "dtype: object\n",
            "Date\n",
            "2008-11-28     80.309998\n",
            "2008-12-01     75.650002\n",
            "2008-12-02     76.949997\n",
            "2008-12-03     76.180000\n",
            "2008-12-04     75.500000\n",
            "                 ...    \n",
            "2023-11-17    183.669998\n",
            "2023-11-20    183.369995\n",
            "2023-11-21    185.350006\n",
            "2023-11-22    184.559998\n",
            "2023-11-24    185.520004\n",
            "Name: Adj Close, Length: 3773, dtype: float64\n",
            "[*********************100%%**********************]  1 of 1 completed\n",
            "Open         float64\n",
            "High         float64\n",
            "Low          float64\n",
            "Close        float64\n",
            "Adj Close    float64\n",
            "Volume         int64\n",
            "dtype: object\n",
            "Date\n",
            "2008-11-28     25.472927\n",
            "2008-12-01     23.557213\n",
            "2008-12-02     24.344492\n",
            "2008-12-03     25.035551\n",
            "2008-12-04     24.326990\n",
            "                 ...    \n",
            "2023-11-17    386.040009\n",
            "2023-11-20    390.739990\n",
            "2023-11-21    388.470001\n",
            "2023-11-22    390.059998\n",
            "2023-11-24    389.510010\n",
            "Name: Adj Close, Length: 3773, dtype: float64\n",
            "[*********************100%%**********************]  1 of 1 completed\n",
            "Open         float64\n",
            "High         float64\n",
            "Low          float64\n",
            "Close        float64\n",
            "Adj Close    float64\n",
            "Volume         int64\n",
            "dtype: object\n",
            "Date\n",
            "2008-11-28     33.385239\n",
            "2008-12-01     30.400921\n",
            "2008-12-02     31.599171\n",
            "2008-12-03     32.413074\n",
            "2008-12-04     31.448441\n",
            "                 ...    \n",
            "2023-11-17    223.110001\n",
            "2023-11-20    224.789993\n",
            "2023-11-21    224.179993\n",
            "2023-11-22    225.139999\n",
            "2023-11-24    225.380005\n",
            "Name: Adj Close, Length: 3773, dtype: float64\n",
            "SPY    float64\n",
            "BND    float64\n",
            "GLD    float64\n",
            "QQQ    float64\n",
            "VTI    float64\n",
            "dtype: object\n",
            "                   SPY        BND         GLD         QQQ         VTI\n",
            "Date                                                                 \n",
            "2008-11-28   67.422653  48.992622   80.309998   25.472927   33.385239\n",
            "2008-12-01   61.450474  49.282425   75.650002   23.557213   30.400921\n",
            "2008-12-02   63.815407  49.581314   76.949997   24.344492   31.599171\n",
            "2008-12-03   65.349609  49.347416   76.180000   25.035551   32.413074\n",
            "2008-12-04   63.837852  49.561848   75.500000   24.326990   31.448441\n",
            "...                ...        ...         ...         ...         ...\n",
            "2023-11-17  450.790009  70.639999  183.669998  386.040009  223.110001\n",
            "2023-11-20  454.260010  70.739998  183.369995  390.739990  224.789993\n",
            "2023-11-21  453.269989  70.839996  185.350006  388.470001  224.179993\n",
            "2023-11-22  455.019989  70.900002  184.559998  390.059998  225.139999\n",
            "2023-11-24  455.299988  70.559998  185.520004  389.510010  225.380005\n",
            "\n",
            "[3773 rows x 5 columns]\n"
          ]
        }
      ]
    },
    {
      "cell_type": "markdown",
      "source": [
        "# Calculate Daily Log Returns\n",
        "Calculate the daily log returns for each stock in our portfolio and drop any missing values."
      ],
      "metadata": {
        "id": "zI8Jkhkd8Ahz"
      },
      "id": "zI8Jkhkd8Ahz"
    },
    {
      "cell_type": "code",
      "source": [
        "### Calculate the daily log returns and drop any NAs\n",
        "log_returns = np.log(adj_close_df/adj_close_df.shift(1))\n",
        "log_returns  = log_returns.dropna()\n",
        "\n",
        "print(log_returns)\n",
        "\n",
        "log_returns"
      ],
      "metadata": {
        "colab": {
          "base_uri": "https://localhost:8080/",
          "height": 715
        },
        "id": "qz8830e08Gyz",
        "executionInfo": {
          "status": "ok",
          "timestamp": 1700895697133,
          "user_tz": 300,
          "elapsed": 155,
          "user": {
            "displayName": "",
            "userId": ""
          }
        },
        "outputId": "41887958-ca76-459f-a319-6f6118c71535"
      },
      "id": "qz8830e08Gyz",
      "execution_count": null,
      "outputs": [
        {
          "output_type": "stream",
          "name": "stdout",
          "text": [
            "                 SPY       BND       GLD       QQQ       VTI\n",
            "Date                                                        \n",
            "2008-12-01 -0.092750  0.005898 -0.059777 -0.078184 -0.093641\n",
            "2008-12-02  0.037763  0.006047  0.017038  0.032874  0.038658\n",
            "2008-12-03  0.023757 -0.004729 -0.010057  0.027991  0.025431\n",
            "2008-12-04 -0.023405  0.004336 -0.008966 -0.028710 -0.030212\n",
            "2008-12-05  0.030366 -0.007370 -0.013065  0.039829  0.034852\n",
            "...              ...       ...       ...       ...       ...\n",
            "2023-11-17  0.001243  0.001417 -0.000109  0.000233  0.002513\n",
            "2023-11-20  0.007668  0.001415 -0.001635  0.012101  0.007502\n",
            "2023-11-21 -0.002182  0.001413  0.010740 -0.005826 -0.002717\n",
            "2023-11-22  0.003853  0.000847 -0.004271  0.004085  0.004273\n",
            "2023-11-24  0.000615 -0.004807  0.005188 -0.001411  0.001065\n",
            "\n",
            "[3772 rows x 5 columns]\n"
          ]
        },
        {
          "output_type": "execute_result",
          "data": {
            "text/plain": [
              "                 SPY       BND       GLD       QQQ       VTI\n",
              "Date                                                        \n",
              "2008-12-01 -0.092750  0.005898 -0.059777 -0.078184 -0.093641\n",
              "2008-12-02  0.037763  0.006047  0.017038  0.032874  0.038658\n",
              "2008-12-03  0.023757 -0.004729 -0.010057  0.027991  0.025431\n",
              "2008-12-04 -0.023405  0.004336 -0.008966 -0.028710 -0.030212\n",
              "2008-12-05  0.030366 -0.007370 -0.013065  0.039829  0.034852\n",
              "...              ...       ...       ...       ...       ...\n",
              "2023-11-17  0.001243  0.001417 -0.000109  0.000233  0.002513\n",
              "2023-11-20  0.007668  0.001415 -0.001635  0.012101  0.007502\n",
              "2023-11-21 -0.002182  0.001413  0.010740 -0.005826 -0.002717\n",
              "2023-11-22  0.003853  0.000847 -0.004271  0.004085  0.004273\n",
              "2023-11-24  0.000615 -0.004807  0.005188 -0.001411  0.001065\n",
              "\n",
              "[3772 rows x 5 columns]"
            ],
            "text/html": [
              "\n",
              "  <div id=\"df-f83035e1-2b8e-4b83-85ac-98835a6ac5d1\" class=\"colab-df-container\">\n",
              "    <div>\n",
              "<style scoped>\n",
              "    .dataframe tbody tr th:only-of-type {\n",
              "        vertical-align: middle;\n",
              "    }\n",
              "\n",
              "    .dataframe tbody tr th {\n",
              "        vertical-align: top;\n",
              "    }\n",
              "\n",
              "    .dataframe thead th {\n",
              "        text-align: right;\n",
              "    }\n",
              "</style>\n",
              "<table border=\"1\" class=\"dataframe\">\n",
              "  <thead>\n",
              "    <tr style=\"text-align: right;\">\n",
              "      <th></th>\n",
              "      <th>SPY</th>\n",
              "      <th>BND</th>\n",
              "      <th>GLD</th>\n",
              "      <th>QQQ</th>\n",
              "      <th>VTI</th>\n",
              "    </tr>\n",
              "    <tr>\n",
              "      <th>Date</th>\n",
              "      <th></th>\n",
              "      <th></th>\n",
              "      <th></th>\n",
              "      <th></th>\n",
              "      <th></th>\n",
              "    </tr>\n",
              "  </thead>\n",
              "  <tbody>\n",
              "    <tr>\n",
              "      <th>2008-12-01</th>\n",
              "      <td>-0.092750</td>\n",
              "      <td>0.005898</td>\n",
              "      <td>-0.059777</td>\n",
              "      <td>-0.078184</td>\n",
              "      <td>-0.093641</td>\n",
              "    </tr>\n",
              "    <tr>\n",
              "      <th>2008-12-02</th>\n",
              "      <td>0.037763</td>\n",
              "      <td>0.006047</td>\n",
              "      <td>0.017038</td>\n",
              "      <td>0.032874</td>\n",
              "      <td>0.038658</td>\n",
              "    </tr>\n",
              "    <tr>\n",
              "      <th>2008-12-03</th>\n",
              "      <td>0.023757</td>\n",
              "      <td>-0.004729</td>\n",
              "      <td>-0.010057</td>\n",
              "      <td>0.027991</td>\n",
              "      <td>0.025431</td>\n",
              "    </tr>\n",
              "    <tr>\n",
              "      <th>2008-12-04</th>\n",
              "      <td>-0.023405</td>\n",
              "      <td>0.004336</td>\n",
              "      <td>-0.008966</td>\n",
              "      <td>-0.028710</td>\n",
              "      <td>-0.030212</td>\n",
              "    </tr>\n",
              "    <tr>\n",
              "      <th>2008-12-05</th>\n",
              "      <td>0.030366</td>\n",
              "      <td>-0.007370</td>\n",
              "      <td>-0.013065</td>\n",
              "      <td>0.039829</td>\n",
              "      <td>0.034852</td>\n",
              "    </tr>\n",
              "    <tr>\n",
              "      <th>...</th>\n",
              "      <td>...</td>\n",
              "      <td>...</td>\n",
              "      <td>...</td>\n",
              "      <td>...</td>\n",
              "      <td>...</td>\n",
              "    </tr>\n",
              "    <tr>\n",
              "      <th>2023-11-17</th>\n",
              "      <td>0.001243</td>\n",
              "      <td>0.001417</td>\n",
              "      <td>-0.000109</td>\n",
              "      <td>0.000233</td>\n",
              "      <td>0.002513</td>\n",
              "    </tr>\n",
              "    <tr>\n",
              "      <th>2023-11-20</th>\n",
              "      <td>0.007668</td>\n",
              "      <td>0.001415</td>\n",
              "      <td>-0.001635</td>\n",
              "      <td>0.012101</td>\n",
              "      <td>0.007502</td>\n",
              "    </tr>\n",
              "    <tr>\n",
              "      <th>2023-11-21</th>\n",
              "      <td>-0.002182</td>\n",
              "      <td>0.001413</td>\n",
              "      <td>0.010740</td>\n",
              "      <td>-0.005826</td>\n",
              "      <td>-0.002717</td>\n",
              "    </tr>\n",
              "    <tr>\n",
              "      <th>2023-11-22</th>\n",
              "      <td>0.003853</td>\n",
              "      <td>0.000847</td>\n",
              "      <td>-0.004271</td>\n",
              "      <td>0.004085</td>\n",
              "      <td>0.004273</td>\n",
              "    </tr>\n",
              "    <tr>\n",
              "      <th>2023-11-24</th>\n",
              "      <td>0.000615</td>\n",
              "      <td>-0.004807</td>\n",
              "      <td>0.005188</td>\n",
              "      <td>-0.001411</td>\n",
              "      <td>0.001065</td>\n",
              "    </tr>\n",
              "  </tbody>\n",
              "</table>\n",
              "<p>3772 rows × 5 columns</p>\n",
              "</div>\n",
              "    <div class=\"colab-df-buttons\">\n",
              "\n",
              "  <div class=\"colab-df-container\">\n",
              "    <button class=\"colab-df-convert\" onclick=\"convertToInteractive('df-f83035e1-2b8e-4b83-85ac-98835a6ac5d1')\"\n",
              "            title=\"Convert this dataframe to an interactive table.\"\n",
              "            style=\"display:none;\">\n",
              "\n",
              "  <svg xmlns=\"http://www.w3.org/2000/svg\" height=\"24px\" viewBox=\"0 -960 960 960\">\n",
              "    <path d=\"M120-120v-720h720v720H120Zm60-500h600v-160H180v160Zm220 220h160v-160H400v160Zm0 220h160v-160H400v160ZM180-400h160v-160H180v160Zm440 0h160v-160H620v160ZM180-180h160v-160H180v160Zm440 0h160v-160H620v160Z\"/>\n",
              "  </svg>\n",
              "    </button>\n",
              "\n",
              "  <style>\n",
              "    .colab-df-container {\n",
              "      display:flex;\n",
              "      gap: 12px;\n",
              "    }\n",
              "\n",
              "    .colab-df-convert {\n",
              "      background-color: #E8F0FE;\n",
              "      border: none;\n",
              "      border-radius: 50%;\n",
              "      cursor: pointer;\n",
              "      display: none;\n",
              "      fill: #1967D2;\n",
              "      height: 32px;\n",
              "      padding: 0 0 0 0;\n",
              "      width: 32px;\n",
              "    }\n",
              "\n",
              "    .colab-df-convert:hover {\n",
              "      background-color: #E2EBFA;\n",
              "      box-shadow: 0px 1px 2px rgba(60, 64, 67, 0.3), 0px 1px 3px 1px rgba(60, 64, 67, 0.15);\n",
              "      fill: #174EA6;\n",
              "    }\n",
              "\n",
              "    .colab-df-buttons div {\n",
              "      margin-bottom: 4px;\n",
              "    }\n",
              "\n",
              "    [theme=dark] .colab-df-convert {\n",
              "      background-color: #3B4455;\n",
              "      fill: #D2E3FC;\n",
              "    }\n",
              "\n",
              "    [theme=dark] .colab-df-convert:hover {\n",
              "      background-color: #434B5C;\n",
              "      box-shadow: 0px 1px 3px 1px rgba(0, 0, 0, 0.15);\n",
              "      filter: drop-shadow(0px 1px 2px rgba(0, 0, 0, 0.3));\n",
              "      fill: #FFFFFF;\n",
              "    }\n",
              "  </style>\n",
              "\n",
              "    <script>\n",
              "      const buttonEl =\n",
              "        document.querySelector('#df-f83035e1-2b8e-4b83-85ac-98835a6ac5d1 button.colab-df-convert');\n",
              "      buttonEl.style.display =\n",
              "        google.colab.kernel.accessAllowed ? 'block' : 'none';\n",
              "\n",
              "      async function convertToInteractive(key) {\n",
              "        const element = document.querySelector('#df-f83035e1-2b8e-4b83-85ac-98835a6ac5d1');\n",
              "        const dataTable =\n",
              "          await google.colab.kernel.invokeFunction('convertToInteractive',\n",
              "                                                    [key], {});\n",
              "        if (!dataTable) return;\n",
              "\n",
              "        const docLinkHtml = 'Like what you see? Visit the ' +\n",
              "          '<a target=\"_blank\" href=https://colab.research.google.com/notebooks/data_table.ipynb>data table notebook</a>'\n",
              "          + ' to learn more about interactive tables.';\n",
              "        element.innerHTML = '';\n",
              "        dataTable['output_type'] = 'display_data';\n",
              "        await google.colab.output.renderOutput(dataTable, element);\n",
              "        const docLink = document.createElement('div');\n",
              "        docLink.innerHTML = docLinkHtml;\n",
              "        element.appendChild(docLink);\n",
              "      }\n",
              "    </script>\n",
              "  </div>\n",
              "\n",
              "\n",
              "<div id=\"df-f205ec93-f923-4283-9fe8-e430f8359e9a\">\n",
              "  <button class=\"colab-df-quickchart\" onclick=\"quickchart('df-f205ec93-f923-4283-9fe8-e430f8359e9a')\"\n",
              "            title=\"Suggest charts\"\n",
              "            style=\"display:none;\">\n",
              "\n",
              "<svg xmlns=\"http://www.w3.org/2000/svg\" height=\"24px\"viewBox=\"0 0 24 24\"\n",
              "     width=\"24px\">\n",
              "    <g>\n",
              "        <path d=\"M19 3H5c-1.1 0-2 .9-2 2v14c0 1.1.9 2 2 2h14c1.1 0 2-.9 2-2V5c0-1.1-.9-2-2-2zM9 17H7v-7h2v7zm4 0h-2V7h2v10zm4 0h-2v-4h2v4z\"/>\n",
              "    </g>\n",
              "</svg>\n",
              "  </button>\n",
              "\n",
              "<style>\n",
              "  .colab-df-quickchart {\n",
              "      --bg-color: #E8F0FE;\n",
              "      --fill-color: #1967D2;\n",
              "      --hover-bg-color: #E2EBFA;\n",
              "      --hover-fill-color: #174EA6;\n",
              "      --disabled-fill-color: #AAA;\n",
              "      --disabled-bg-color: #DDD;\n",
              "  }\n",
              "\n",
              "  [theme=dark] .colab-df-quickchart {\n",
              "      --bg-color: #3B4455;\n",
              "      --fill-color: #D2E3FC;\n",
              "      --hover-bg-color: #434B5C;\n",
              "      --hover-fill-color: #FFFFFF;\n",
              "      --disabled-bg-color: #3B4455;\n",
              "      --disabled-fill-color: #666;\n",
              "  }\n",
              "\n",
              "  .colab-df-quickchart {\n",
              "    background-color: var(--bg-color);\n",
              "    border: none;\n",
              "    border-radius: 50%;\n",
              "    cursor: pointer;\n",
              "    display: none;\n",
              "    fill: var(--fill-color);\n",
              "    height: 32px;\n",
              "    padding: 0;\n",
              "    width: 32px;\n",
              "  }\n",
              "\n",
              "  .colab-df-quickchart:hover {\n",
              "    background-color: var(--hover-bg-color);\n",
              "    box-shadow: 0 1px 2px rgba(60, 64, 67, 0.3), 0 1px 3px 1px rgba(60, 64, 67, 0.15);\n",
              "    fill: var(--button-hover-fill-color);\n",
              "  }\n",
              "\n",
              "  .colab-df-quickchart-complete:disabled,\n",
              "  .colab-df-quickchart-complete:disabled:hover {\n",
              "    background-color: var(--disabled-bg-color);\n",
              "    fill: var(--disabled-fill-color);\n",
              "    box-shadow: none;\n",
              "  }\n",
              "\n",
              "  .colab-df-spinner {\n",
              "    border: 2px solid var(--fill-color);\n",
              "    border-color: transparent;\n",
              "    border-bottom-color: var(--fill-color);\n",
              "    animation:\n",
              "      spin 1s steps(1) infinite;\n",
              "  }\n",
              "\n",
              "  @keyframes spin {\n",
              "    0% {\n",
              "      border-color: transparent;\n",
              "      border-bottom-color: var(--fill-color);\n",
              "      border-left-color: var(--fill-color);\n",
              "    }\n",
              "    20% {\n",
              "      border-color: transparent;\n",
              "      border-left-color: var(--fill-color);\n",
              "      border-top-color: var(--fill-color);\n",
              "    }\n",
              "    30% {\n",
              "      border-color: transparent;\n",
              "      border-left-color: var(--fill-color);\n",
              "      border-top-color: var(--fill-color);\n",
              "      border-right-color: var(--fill-color);\n",
              "    }\n",
              "    40% {\n",
              "      border-color: transparent;\n",
              "      border-right-color: var(--fill-color);\n",
              "      border-top-color: var(--fill-color);\n",
              "    }\n",
              "    60% {\n",
              "      border-color: transparent;\n",
              "      border-right-color: var(--fill-color);\n",
              "    }\n",
              "    80% {\n",
              "      border-color: transparent;\n",
              "      border-right-color: var(--fill-color);\n",
              "      border-bottom-color: var(--fill-color);\n",
              "    }\n",
              "    90% {\n",
              "      border-color: transparent;\n",
              "      border-bottom-color: var(--fill-color);\n",
              "    }\n",
              "  }\n",
              "</style>\n",
              "\n",
              "  <script>\n",
              "    async function quickchart(key) {\n",
              "      const quickchartButtonEl =\n",
              "        document.querySelector('#' + key + ' button');\n",
              "      quickchartButtonEl.disabled = true;  // To prevent multiple clicks.\n",
              "      quickchartButtonEl.classList.add('colab-df-spinner');\n",
              "      try {\n",
              "        const charts = await google.colab.kernel.invokeFunction(\n",
              "            'suggestCharts', [key], {});\n",
              "      } catch (error) {\n",
              "        console.error('Error during call to suggestCharts:', error);\n",
              "      }\n",
              "      quickchartButtonEl.classList.remove('colab-df-spinner');\n",
              "      quickchartButtonEl.classList.add('colab-df-quickchart-complete');\n",
              "    }\n",
              "    (() => {\n",
              "      let quickchartButtonEl =\n",
              "        document.querySelector('#df-f205ec93-f923-4283-9fe8-e430f8359e9a button');\n",
              "      quickchartButtonEl.style.display =\n",
              "        google.colab.kernel.accessAllowed ? 'block' : 'none';\n",
              "    })();\n",
              "  </script>\n",
              "</div>\n",
              "    </div>\n",
              "  </div>\n"
            ]
          },
          "metadata": {},
          "execution_count": 16
        }
      ]
    },
    {
      "cell_type": "markdown",
      "source": [
        "# Define Functions to Calculate Portfolio Expected Return and Standard Deviation\n",
        "Define two functions, expected_return() and standard_deviation(), which will be used to calculate the expected return and standard deviation of our portfolio, respectively."
      ],
      "metadata": {
        "id": "bWpscWKr8JfF"
      },
      "id": "bWpscWKr8JfF"
    },
    {
      "cell_type": "code",
      "source": [
        "### Create a function that will be used to calculate portfolio expected return\n",
        "### We are assuming that future returns are based on past returns, which is not a reliable assumption.\n",
        "def expected_return(weights, log_returns):\n",
        "    return np.sum(log_returns.mean()*weights)\n",
        "\n",
        "### Create a function that will be used to calculate portfolio standard deviation\n",
        "def standard_deviation (weights, cov_matrix):\n",
        "    variance = weights.T @ cov_matrix @ weights\n",
        "    return np.sqrt(variance)"
      ],
      "metadata": {
        "id": "Z4UsZLkt8epA"
      },
      "id": "Z4UsZLkt8epA",
      "execution_count": null,
      "outputs": []
    },
    {
      "cell_type": "markdown",
      "source": [
        "# Create a Covariance Matrix\n",
        "Create a covariance matrix for all the securities in our portfolio using the daily log returns."
      ],
      "metadata": {
        "id": "bEKEGAGn8nPj"
      },
      "id": "bEKEGAGn8nPj"
    },
    {
      "cell_type": "code",
      "source": [
        "### Create a covariance matrix for all the securities\n",
        "cov_matrix = log_returns.cov()\n",
        "print(cov_matrix)"
      ],
      "metadata": {
        "colab": {
          "base_uri": "https://localhost:8080/"
        },
        "id": "006D_dZ08sks",
        "executionInfo": {
          "status": "ok",
          "timestamp": 1700895703747,
          "user_tz": 300,
          "elapsed": 185,
          "user": {
            "displayName": "",
            "userId": ""
          }
        },
        "outputId": "ce64a4bc-e0d6-4b8c-eb8c-9370abb0d212"
      },
      "id": "006D_dZ08sks",
      "execution_count": null,
      "outputs": [
        {
          "output_type": "stream",
          "name": "stdout",
          "text": [
            "          SPY           BND       GLD           QQQ       VTI\n",
            "SPY  0.000135 -1.140051e-06  0.000007  1.445239e-04  0.000138\n",
            "BND -0.000001  9.329953e-06  0.000009 -3.293531e-07 -0.000001\n",
            "GLD  0.000007  8.723140e-06  0.000103  7.060422e-06  0.000008\n",
            "QQQ  0.000145 -3.293531e-07  0.000007  1.794933e-04  0.000148\n",
            "VTI  0.000138 -1.038561e-06  0.000008  1.478930e-04  0.000142\n"
          ]
        }
      ]
    },
    {
      "cell_type": "markdown",
      "source": [
        "# Calculate Portfolio Expected Return and Standard Deviation\n",
        "Create an equally weighted portfolio and calculate the portfolio’s expected return and standard deviation using the functions we defined earlier."
      ],
      "metadata": {
        "id": "FUmXmirJ8ulO"
      },
      "id": "FUmXmirJ8ulO"
    },
    {
      "cell_type": "code",
      "source": [
        "### Create an equally weighted portfolio and find total portfolio expected return and standard deviation\n",
        "portfolio_value = 1000000\n",
        "weights = np.array([1/len(tickers)]*len(tickers))\n",
        "portfolio_expected_return = expected_return(weights, log_returns)\n",
        "portfolio_std_dev = standard_deviation (weights, cov_matrix)"
      ],
      "metadata": {
        "id": "ueXjbA5v8yoV"
      },
      "id": "ueXjbA5v8yoV",
      "execution_count": null,
      "outputs": []
    },
    {
      "cell_type": "markdown",
      "source": [
        "# Define Functions for Monte Carlo Simulation\n",
        "Define two functions: random_z_score() and scenario_gain_loss(). The first function generates a random Z-score based on a normal distribution, and the second function calculates the gain or loss for a given scenario.\n"
      ],
      "metadata": {
        "id": "MG_yHArN8-0U"
      },
      "id": "MG_yHArN8-0U"
    },
    {
      "cell_type": "code",
      "source": [
        "def random_z_score():\n",
        "    return np.random.normal(0, 1)\n",
        "\n",
        "### Create a function to calculate scenarioGainLoss\n",
        "days = 20\n",
        "\n",
        "def scenario_gain_loss(portfolio_value, portfolio_std_dev, z_score, days):\n",
        "    return portfolio_value * portfolio_expected_return * days + portfolio_value * portfolio_std_dev * z_score * np.sqrt(days)"
      ],
      "metadata": {
        "id": "Jp8aaa4F9CFj"
      },
      "id": "Jp8aaa4F9CFj",
      "execution_count": null,
      "outputs": []
    },
    {
      "cell_type": "markdown",
      "source": [
        "# Run Monte Carlo Simulation\n",
        "Run 10,000 Monte Carlo simulations, calculating the scenario gain/loss for each simulation and storing the results in a list."
      ],
      "metadata": {
        "id": "gqzqeAlE9hvE"
      },
      "id": "gqzqeAlE9hvE"
    },
    {
      "cell_type": "code",
      "source": [
        "### Run 10000 simulations\n",
        "simulations = 10000\n",
        "scenarioReturn = []\n",
        "\n",
        "for i in range(simulations):\n",
        "    z_score = random_z_score()\n",
        "    scenarioReturn.append(scenario_gain_loss(portfolio_value, portfolio_std_dev, z_score, days))"
      ],
      "metadata": {
        "id": "zuuZLeFf9nwR"
      },
      "id": "zuuZLeFf9nwR",
      "execution_count": null,
      "outputs": []
    },
    {
      "cell_type": "markdown",
      "source": [
        "# Calculate Value at Risk (VaR)\n",
        "Specify a confidence interval of 99% and calculate Value at Risk (VaR) using the results of our simulations."
      ],
      "metadata": {
        "id": "jmnToGLt9uem"
      },
      "id": "jmnToGLt9uem"
    },
    {
      "cell_type": "code",
      "source": [
        "### Specify a confidence interval and calculate the Value at Risk (VaR)\n",
        "confidence_interval = 0.99\n",
        "VaR = -np.percentile(scenarioReturn, 100 * (1 - confidence_interval))\n",
        "print(VaR)"
      ],
      "metadata": {
        "colab": {
          "base_uri": "https://localhost:8080/"
        },
        "id": "YH_atN1k-BLC",
        "executionInfo": {
          "status": "ok",
          "timestamp": 1700895712890,
          "user_tz": 300,
          "elapsed": 126,
          "user": {
            "displayName": "",
            "userId": ""
          }
        },
        "outputId": "b74b03ca-bba6-4ca4-cb75-b199748eccc3"
      },
      "id": "YH_atN1k-BLC",
      "execution_count": null,
      "outputs": [
        {
          "output_type": "stream",
          "name": "stdout",
          "text": [
            "73418.95845463539\n"
          ]
        }
      ]
    },
    {
      "cell_type": "markdown",
      "source": [
        "# Plot the Results\n",
        "Create a histogram to visualize the distribution of portfolio gain/loss over the specified number of days. We also add a vertical dashed line to indicate the VaR at our chosen confidence level."
      ],
      "metadata": {
        "id": "ykIVuCaE-GQr"
      },
      "id": "ykIVuCaE-GQr"
    },
    {
      "cell_type": "code",
      "source": [
        "### Plot the results of all 10000 scenarios\n",
        "plt.hist(scenarioReturn, bins=50, density=True)\n",
        "plt.xlabel('Scenario Gain/Loss ($)')\n",
        "plt.ylabel('Frequency')\n",
        "plt.title(f'Distribution of Portfolio Gain/Loss Over {days} Days')\n",
        "plt.axvline(-VaR, color='r', linestyle='dashed', linewidth=2, label=f'VaR at {confidence_interval:.0%} confidence level')\n",
        "plt.legend()\n",
        "plt.show()"
      ],
      "metadata": {
        "colab": {
          "base_uri": "https://localhost:8080/",
          "height": 472
        },
        "id": "3DFIzD1X-JXb",
        "executionInfo": {
          "status": "ok",
          "timestamp": 1700895715880,
          "user_tz": 300,
          "elapsed": 513,
          "user": {
            "displayName": "",
            "userId": ""
          }
        },
        "outputId": "37d5f966-e899-4b47-aaf2-21aaf2d141a0"
      },
      "id": "3DFIzD1X-JXb",
      "execution_count": null,
      "outputs": [
        {
          "output_type": "display_data",
          "data": {
            "text/plain": [
              "<Figure size 640x480 with 1 Axes>"
            ],
            "image/png": "[encoded data removed]"
          },
          "metadata": {}
        }
      ]
    }
  ]
}